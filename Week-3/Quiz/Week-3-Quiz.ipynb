{
 "cells": [
  {
   "cell_type": "markdown",
   "metadata": {},
   "source": [
    "#### 1. Take a look at the 'iris' dataset that comes with R. The data can be loaded with the code. A description of the dataset can be found by running. There will be an object called 'iris' in your workspace. In this dataset, what is the mean of 'Sepal.Length' for the species virginica? Please round your answer to the nearest whole number.\n",
    "\n",
    "(Only enter the numeric result and nothing else.)\n",
    "\n",
    "```r\n",
    "library(datasets)\n",
    "data(iris)\n",
    "?iris\n",
    "```"
   ]
  },
  {
   "cell_type": "markdown",
   "metadata": {},
   "source": [
    "##### Ans: 7"
   ]
  },
  {
   "cell_type": "markdown",
   "metadata": {},
   "source": [
    "#### 2. Continuing with the 'iris' dataset from the previous Question, what R code returns a vector of the means of the variables 'Sepal.Length', 'Sepal.Width', 'Petal.Length', and 'Petal.Width'?"
   ]
  },
  {
   "cell_type": "markdown",
   "metadata": {},
   "source": [
    "##### Ans: \n",
    "```r\n",
    "apply(iris[, 1:4], 2, mean)\n",
    "```"
   ]
  },
  {
   "cell_type": "markdown",
   "metadata": {},
   "source": [
    "#### 3. Load the 'mtcars' dataset in R with the following code. There will be an object names 'mtcars' in your workspace. You can find some information about the dataset by running. How can one calculate the average miles per gallon (mpg) by number of cylinders in the car (cyl)? Select all that apply.\n",
    "```r\n",
    "library(datasets)\n",
    "data(mtcars)\n",
    "?mtcars\n",
    "```"
   ]
  },
  {
   "cell_type": "markdown",
   "metadata": {},
   "source": [
    "##### Ans: \n",
    "```r\n",
    "tapply(mtcars$mpg, mtcars$cyl, mean)\n",
    "with(mtcars, tapply(mpg, cyl, mean))\n",
    "sapply(split(mtcars$mpg, mtcars$cyl), mean)\n",
    "```"
   ]
  },
  {
   "cell_type": "markdown",
   "metadata": {},
   "source": [
    "#### 4. Continuing with the 'mtcars' dataset from the previous Question, what is the absolute difference between the average horsepower of 4-cylinder cars and the average horsepower of 8-cylinder cars?\n",
    "\n",
    "(Please round your final answer to the nearest whole number. Only enter the numeric result and nothing else.)"
   ]
  },
  {
   "cell_type": "markdown",
   "metadata": {},
   "source": [
    "##### Ans: 127\n",
    "```r\n",
    "abs(mean(mtcars$hp[mtcars$cyl == 4]) - mean(mtcars$hp[mtcars$cyl == 8]))\n",
    "```"
   ]
  },
  {
   "cell_type": "markdown",
   "metadata": {},
   "source": [
    "#### 5. If you run. what happens when you next call the 'ls' function?\n",
    "```r\n",
    "debug(ls)\n",
    "```"
   ]
  },
  {
   "cell_type": "markdown",
   "metadata": {},
   "source": [
    "##### Ans: Execution of 'ls' will suspend at the beginning of the function and you will be in the browser."
   ]
  }
 ],
 "metadata": {
  "kernelspec": {
   "display_name": "Python 3",
   "language": "python",
   "name": "python3"
  },
  "language_info": {
   "codemirror_mode": {
    "name": "ipython",
    "version": 3
   },
   "file_extension": ".py",
   "mimetype": "text/x-python",
   "name": "python",
   "nbconvert_exporter": "python",
   "pygments_lexer": "ipython3",
   "version": "3.6.4"
  }
 },
 "nbformat": 4,
 "nbformat_minor": 2
}
