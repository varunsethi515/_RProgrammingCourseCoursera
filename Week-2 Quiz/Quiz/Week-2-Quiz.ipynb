{
 "cells": [
  {
   "cell_type": "markdown",
   "metadata": {},
   "source": [
    "#### 1. Suppose I define the following function in R. What is the result of running. in R after defining this function?\n",
    "```r\n",
    "cube <- function(x, n) {\n",
    "        x^3\n",
    "}\n",
    "cube(3)\n",
    "```"
   ]
  },
  {
   "cell_type": "markdown",
   "metadata": {},
   "source": [
    "##### Ans: The number 27 is returned"
   ]
  },
  {
   "cell_type": "markdown",
   "metadata": {},
   "source": [
    "#### 2. The following code will produce a warning in R. Why?\n",
    "```r\n",
    "x <- 1:10\n",
    "if(x > 5) {\n",
    "        x <- 0\n",
    "}\n",
    "```"
   ]
  },
  {
   "cell_type": "markdown",
   "metadata": {},
   "source": [
    "##### Ans: x' is a vector of length 10 and 'if' can only test a single logical statement."
   ]
  },
  {
   "cell_type": "markdown",
   "metadata": {},
   "source": [
    "#### 3. Consider the following function. If I then run in R. What value is returned?\n",
    "```r\n",
    "f <- function(x) {\n",
    "        g <- function(y) {\n",
    "                y + z\n",
    "        }\n",
    "        z <- 4\n",
    "        x + g(x)\n",
    "}\n",
    "z <- 10\n",
    "f(3)\n",
    "```"
   ]
  },
  {
   "cell_type": "markdown",
   "metadata": {},
   "source": [
    "##### Ans: 10"
   ]
  },
  {
   "cell_type": "markdown",
   "metadata": {},
   "source": [
    "#### 4. Consider the following expression. What is the value of 'y' after evaluating this expression?\n",
    "```r\n",
    "x <- 5\n",
    "y <- if(x < 3) {\n",
    "        NA\n",
    "} else {\n",
    "        10\n",
    "}\n",
    "```"
   ]
  },
  {
   "cell_type": "markdown",
   "metadata": {},
   "source": [
    "##### Ans: 10"
   ]
  },
  {
   "cell_type": "markdown",
   "metadata": {},
   "source": [
    "#### 5. Consider the following R function. Which symbol in the above function is a free variable?\n",
    "```r\n",
    "h <- function(x, y = NULL, d = 3L) {\n",
    "        z <- cbind(x, d)\n",
    "        if(!is.null(y))\n",
    "                z <- z + y\n",
    "        else\n",
    "                z <- z + f\n",
    "        g <- x + y / z\n",
    "        if(d == 3L)\n",
    "                return(g)\n",
    "        g <- g + 10\n",
    "        g\n",
    "}\n",
    "```"
   ]
  },
  {
   "cell_type": "markdown",
   "metadata": {},
   "source": [
    "##### Ans: f"
   ]
  },
  {
   "cell_type": "markdown",
   "metadata": {},
   "source": [
    "#### 6. What is an environment in R?"
   ]
  },
  {
   "cell_type": "markdown",
   "metadata": {},
   "source": [
    "##### Ans: a collection of symbol/value pairs"
   ]
  },
  {
   "cell_type": "markdown",
   "metadata": {},
   "source": [
    "#### 7. The R language uses what type of scoping rule for resolving free variables?"
   ]
  },
  {
   "cell_type": "markdown",
   "metadata": {},
   "source": [
    "##### Ans: lexical scoping"
   ]
  },
  {
   "cell_type": "markdown",
   "metadata": {},
   "source": [
    "#### 8. How are free variables in R functions resolved?"
   ]
  },
  {
   "cell_type": "markdown",
   "metadata": {},
   "source": [
    "##### Ans: The values of free variables are searched for in the environment in which the function was defined"
   ]
  },
  {
   "cell_type": "markdown",
   "metadata": {},
   "source": [
    "#### 9. What is one of the consequences of the scoping rules used in R?"
   ]
  },
  {
   "cell_type": "markdown",
   "metadata": {},
   "source": [
    "##### Ans: All objects must be stored in memory"
   ]
  },
  {
   "cell_type": "markdown",
   "metadata": {},
   "source": [
    "#### 10. In R, what is the parent frame?"
   ]
  },
  {
   "cell_type": "markdown",
   "metadata": {},
   "source": [
    "##### Ans: It is the environment in which a function was called"
   ]
  }
 ],
 "metadata": {
  "kernelspec": {
   "display_name": "Python 3",
   "language": "python",
   "name": "python3"
  },
  "language_info": {
   "codemirror_mode": {
    "name": "ipython",
    "version": 3
   },
   "file_extension": ".py",
   "mimetype": "text/x-python",
   "name": "python",
   "nbconvert_exporter": "python",
   "pygments_lexer": "ipython3",
   "version": "3.6.4"
  }
 },
 "nbformat": 4,
 "nbformat_minor": 2
}
